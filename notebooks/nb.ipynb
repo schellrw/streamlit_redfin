{
 "cells": [
  {
   "cell_type": "code",
   "execution_count": 1,
   "metadata": {},
   "outputs": [],
   "source": [
    "#Import Python Libraries\n",
    "import pandas as pd\n",
    "import folium\n",
    "import geopandas as gpd\n",
    "from folium.features import GeoJsonPopup, GeoJsonTooltip\n",
    "import streamlit as st\n",
    "from streamlit_folium import folium_static\n",
    "\n",
    "#@st.cache\n",
    "def read_csv(path):\n",
    "    return pd.read_csv(path, compression='gzip', sep='\\t', quotechar='\"')\n",
    "\n",
    "housing_price_df = read_csv('../input/state_market_tracker.tsv000.gz')\n",
    "housing_price_df = housing_price_df[['period_begin','period_end','period_duration','property_type','median_sale_price','median_sale_price_yoy','homes_sold','state_code']]\n",
    "housing_price_df = housing_price_df[(housing_price_df['period_begin']>='2022-01-01') & (housing_price_df['period_begin']<='2023-09-01')].reset_index(drop=True)"
   ]
  },
  {
   "cell_type": "code",
   "execution_count": 2,
   "metadata": {},
   "outputs": [],
   "source": [
    "hp_df = housing_price_df.copy()"
   ]
  },
  {
   "cell_type": "code",
   "execution_count": 3,
   "metadata": {},
   "outputs": [
    {
     "name": "stdout",
     "output_type": "stream",
     "text": [
      "<class 'pandas.core.frame.DataFrame'>\n",
      "RangeIndex: 4574 entries, 0 to 4573\n",
      "Data columns (total 8 columns):\n",
      " #   Column                 Non-Null Count  Dtype  \n",
      "---  ------                 --------------  -----  \n",
      " 0   period_begin           4574 non-null   object \n",
      " 1   period_end             4574 non-null   object \n",
      " 2   period_duration        4574 non-null   int64  \n",
      " 3   property_type          4574 non-null   object \n",
      " 4   median_sale_price      4574 non-null   int64  \n",
      " 5   median_sale_price_yoy  4574 non-null   float64\n",
      " 6   homes_sold             4574 non-null   int64  \n",
      " 7   state_code             4574 non-null   object \n",
      "dtypes: float64(1), int64(3), object(4)\n",
      "memory usage: 286.0+ KB\n"
     ]
    }
   ],
   "source": [
    "hp_df.info()"
   ]
  },
  {
   "cell_type": "code",
   "execution_count": 7,
   "metadata": {},
   "outputs": [],
   "source": [
    "#@st.cache\n",
    "def read_file(path):\n",
    "    return gpd.read_file(path)\n",
    "\n",
    "#Read the geojson file\n",
    "gdf = read_file('../input/georef-united-states-of-america-state.geojson')"
   ]
  },
  {
   "cell_type": "code",
   "execution_count": 8,
   "metadata": {},
   "outputs": [
    {
     "name": "stdout",
     "output_type": "stream",
     "text": [
      "<class 'geopandas.geodataframe.GeoDataFrame'>\n",
      "RangeIndex: 56 entries, 0 to 55\n",
      "Data columns (total 10 columns):\n",
      " #   Column           Non-Null Count  Dtype   \n",
      "---  ------           --------------  -----   \n",
      " 0   geo_point_2d     56 non-null     object  \n",
      " 1   year             56 non-null     object  \n",
      " 2   ste_code         56 non-null     object  \n",
      " 3   ste_name         56 non-null     object  \n",
      " 4   ste_area_code    56 non-null     object  \n",
      " 5   ste_type         56 non-null     object  \n",
      " 6   ste_stusps_code  56 non-null     object  \n",
      " 7   ste_fp_code      0 non-null      float64 \n",
      " 8   ste_gnis_code    56 non-null     object  \n",
      " 9   geometry         56 non-null     geometry\n",
      "dtypes: float64(1), geometry(1), object(8)\n",
      "memory usage: 4.5+ KB\n"
     ]
    }
   ],
   "source": [
    "gdf.info()"
   ]
  },
  {
   "cell_type": "code",
   "execution_count": 9,
   "metadata": {},
   "outputs": [],
   "source": [
    "#Merge the housing market data and geojson file into one dataframe\n",
    "df_final = gdf.merge(hp_df, left_on=\"ste_stusps_code\", right_on=\"state_code\", how=\"outer\").reset_index(drop=True)\n",
    "df_final = df_final[['period_begin','period_end','period_duration','property_type','median_sale_price','median_sale_price_yoy','homes_sold',\n",
    "                     'state_code', 'ste_code','ste_name', 'ste_area_code', 'ste_type', 'ste_stusps_code','geometry']]\n",
    "df_final = df_final[~df_final['period_begin'].isna()].reset_index(drop=True)"
   ]
  },
  {
   "cell_type": "code",
   "execution_count": 10,
   "metadata": {},
   "outputs": [],
   "source": [
    "df = df_final.copy()"
   ]
  },
  {
   "cell_type": "code",
   "execution_count": null,
   "metadata": {},
   "outputs": [],
   "source": [
    "#Add sidebar to the app\n",
    "st.sidebar.markdown(\"### Redfin Housing Data\")\n",
    "st.sidebar.markdown(\"This app is built using Streamlit to help visualize activity in the U.S. real estate market. All data from: https://www.redfin.com/news/data-center/\")\n",
    "st.sidebar.markdown(\"Developed by Robert Schell: https://github.com/schellrw\")\n",
    "#Add title and subtitle to the main interface of the app\n",
    "st.title(\"U.S. Real Estate Activity Heatmap\")\n",
    "st.markdown(\"Where are the hottest housing markets in the U.S.? Select the housing market metrics you are interested in and your insights are just a couple clicks away. Hover over the map to view more details.\")\n",
    "\n",
    "#Create three columns/filters\n",
    "col1, col2, col3 = st.columns(3)\n",
    "\n",
    "with col1:\n",
    "     period_list = df_final[\"period_begin\"].unique().tolist()\n",
    "     period_list.sort(reverse=True)\n",
    "     year_month = st.selectbox(\"Snapshot Month\", period_list, index=0)\n",
    "\n",
    "with col2:\n",
    "     prop_type = st.selectbox(\n",
    "                \"View by Property Type\", ['All Residential', 'Single Family Residential', 'Townhouse','Condo/Co-op','Single Units Only','Multi-Family (2-4 Unit)'] , index=0)\n",
    "\n",
    "with col3:\n",
    "     metrics = st.selectbox(\"Select Housing Metrics\", [\"median_sale_price\",\"median_sale_price_yoy\", \"homes_sold\"], index=0)\n",
    "\n",
    "#Update the data frame accordingly based on user input\n",
    "df = df[df[\"period_begin\"]==year_month]\n",
    "df = df[df[\"property_type\"]==prop_type]\n",
    "df = df[['period_begin','period_end','period_duration','property_type',metrics,'state_code','ste_code','ste_name','ste_area_code','ste_type','ste_stusps_code','geometry']]\n",
    "\n",
    "#st.write(df)\n",
    "\n",
    "#Initiate a folium map\n",
    "m = folium.Map(location=[40, -100], zoom_start=4,tiles=None)\n",
    "folium.TileLayer('CartoDB positron',name=\"Light Map\",control=False).add_to(m)\n",
    "\n",
    "#Plot Choropleth map using folium\n",
    "choropleth1 = folium.Choropleth(\n",
    "    geo_data='./us-state-boundaries.geojson',       # Geojson file for the United States\n",
    "    name='Choropleth Map of U.S. Housing Prices',\n",
    "    data=df,                                        # df from the data preparation and user selection\n",
    "    columns=['state_code', metrics],                # 'state code' and 'metrics' are the two columns in the dataframe that we use to grab the median sales price for each state and plot it in the choropleth map\n",
    "    key_on='feature.properties.ste_stusps_code',    # key in the geojson file that we use to grab the geometries for each state in order to add the geographical boundary layers to the map\n",
    "    fill_color='YlGn',\n",
    "    nan_fill_color=\"White\",\n",
    "    fill_opacity=0.7,\n",
    "    line_opacity=0.2,\n",
    "    legend_name='Housing Market Metrics',\n",
    "    highlight=True,\n",
    "    line_color='black').geojson.add_to(m)\n",
    "\n",
    "#Add tooltips to the map\n",
    "geojson1 = folium.features.GeoJson(\n",
    "               data=df,\n",
    "               name='United States Housing Prices',\n",
    "               smooth_factor=2,\n",
    "               style_function=lambda x: {'color':'black','fillColor':'transparent','weight':0.5},\n",
    "               tooltip=folium.features.GeoJsonTooltip(\n",
    "                   fields=['period_begin',\n",
    "                           'period_end',\n",
    "                           'name',\n",
    "                           metrics,],\n",
    "                   aliases=[\"Period Begin:\",\n",
    "                            'Period End:',\n",
    "                            'State:',\n",
    "                            metrics+\":\"],\n",
    "                   localize=True,\n",
    "                   sticky=False,\n",
    "                   labels=True,\n",
    "                   style=\"\"\"\n",
    "                       background-color: #F0EFEF;\n",
    "                       border: 2px solid black;\n",
    "                       border-radius: 3px;\n",
    "                       box-shadow: 3px;\n",
    "                   \"\"\",\n",
    "                   max_width=800,),\n",
    "                    highlight_function=lambda x: {'weight':3,'fillColor':'grey'},\n",
    "                   ).add_to(m)\n",
    "#folium_static(m)"
   ]
  },
  {
   "cell_type": "code",
   "execution_count": null,
   "metadata": {},
   "outputs": [],
   "source": []
  }
 ],
 "metadata": {
  "kernelspec": {
   "display_name": "base",
   "language": "python",
   "name": "python3"
  },
  "language_info": {
   "codemirror_mode": {
    "name": "ipython",
    "version": 3
   },
   "file_extension": ".py",
   "mimetype": "text/x-python",
   "name": "python",
   "nbconvert_exporter": "python",
   "pygments_lexer": "ipython3",
   "version": "3.9.12"
  },
  "orig_nbformat": 4
 },
 "nbformat": 4,
 "nbformat_minor": 2
}
